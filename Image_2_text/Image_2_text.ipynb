{
 "cells": [
  {
   "cell_type": "code",
   "execution_count": 2,
   "metadata": {},
   "outputs": [],
   "source": [
    "from transformers import VisionEncoderDecoderModel, ViTImageProcessor, AutoTokenizer\n",
    "import torch\n",
    "from PIL import Image\n",
    "from transformers import BlipProcessor, BlipForConditionalGeneration\n",
    "from transformers import CLIPProcessor, CLIPModel\n",
    "from ultralytics import YOLO\n",
    "import numpy as np\n"
   ]
  },
  {
   "cell_type": "code",
   "execution_count": 24,
   "metadata": {},
   "outputs": [],
   "source": [
    "# Laden des vortrainierten Modells und der entsprechenden Tokenizer\n",
    "model = VisionEncoderDecoderModel.from_pretrained(\"nlpconnect/vit-gpt2-image-captioning\")\n",
    "feature_extractor = ViTImageProcessor.from_pretrained(\"nlpconnect/vit-gpt2-image-captioning\")\n",
    "tokenizer = AutoTokenizer.from_pretrained(\"nlpconnect/vit-gpt2-image-captioning\")\n",
    "\n",
    "# Laden des BLIP Modell und der entsprechenden Tokenizer\n",
    "blip_processor = BlipProcessor.from_pretrained(\"Salesforce/blip-image-captioning-base\")\n",
    "blip_model = BlipForConditionalGeneration.from_pretrained(\"Salesforce/blip-image-captioning-base\")\n",
    "\n",
    "\n",
    "model_yolo = YOLO('yolov8n.pt')  "
   ]
  },
  {
   "cell_type": "code",
   "execution_count": 11,
   "metadata": {},
   "outputs": [],
   "source": [
    "def generate_caption(image_path):\n",
    "    # Laden und verarbeiten des Bild\n",
    "    image = Image.open(image_path).convert(\"RGB\")  # Stellt sicher, dass das Bild im RGB-Format ist\n",
    "    pixel_values = feature_extractor(images=image, return_tensors=\"pt\").pixel_values\n",
    "\n",
    "    # Generieren der Bildbeschreibung\n",
    "    output_ids = model.generate(pixel_values, max_length=16, num_beams=4)\n",
    "    caption = tokenizer.decode(output_ids[0], skip_special_tokens=True)\n",
    "    return caption"
   ]
  },
  {
   "cell_type": "code",
   "execution_count": 21,
   "metadata": {},
   "outputs": [],
   "source": [
    "def generate_blip_caption(image_path):\n",
    "    image = Image.open(image_path).convert(\"RGB\") \n",
    "    inputs = blip_processor(images=image, return_tensors=\"pt\")  \n",
    "\n",
    "    output_ids = blip_model.generate(**inputs, max_length=16, num_beams=4)\n",
    "    caption = blip_processor.decode(output_ids[0], skip_special_tokens=True)\n",
    "    return caption\n",
    "\n"
   ]
  },
  {
   "cell_type": "code",
   "execution_count": 19,
   "metadata": {},
   "outputs": [],
   "source": [
    "def detect_objects(image_path):\n",
    "    # Lade das Bild\n",
    "    image = Image.open(image_path).convert(\"RGB\")\n",
    "    \n",
    "    # Konvertiere das Bild in ein NumPy-Array\n",
    "    image_np = np.array(image)\n",
    "    \n",
    "    # Wende YOLOv8 auf das Bild an\n",
    "    results = model_yolo(image_np)\n",
    "    \n",
    "    # Extrahiere die erkannten Objekte\n",
    "    detected_objects = []\n",
    "    for result in results:\n",
    "        for box in result.boxes:\n",
    "            cls_id = int(box.cls[0])\n",
    "            label = model_yolo.names[cls_id]\n",
    "            detected_objects.append(label)\n",
    "    \n",
    "    return detected_objects\n",
    "\n",
    "def generate_simple_caption(detected_objects):\n",
    "    if not detected_objects:\n",
    "        return \"No objects detected in the image.\"\n",
    "    \n",
    "    unique_objects = set(detected_objects)\n",
    "    object_counts = {obj: detected_objects.count(obj) for obj in unique_objects}\n",
    "    \n",
    "    caption = \"The image contains \"\n",
    "    for obj, count in object_counts.items():\n",
    "        if count == 1:\n",
    "            caption += f\"a {obj}, \"\n",
    "        else:\n",
    "            caption += f\"{count} {obj}s, \"\n",
    "    \n",
    "    caption = caption.rstrip(', ') + '.'\n",
    "    return caption\n",
    "\n"
   ]
  },
  {
   "cell_type": "code",
   "execution_count": 18,
   "metadata": {},
   "outputs": [
    {
     "name": "stderr",
     "output_type": "stream",
     "text": [
      "The attention mask is not set and cannot be inferred from input because pad token is same as eos token.As a consequence, you may observe unexpected behavior. Please pass your input's `attention_mask` to obtain reliable results.\n",
      "We strongly recommend passing in an `attention_mask` since your input_ids may be padded. See https://huggingface.co/docs/transformers/troubleshooting#incorrect-output-when-padding-tokens-arent-masked.\n",
      "You may ignore this warning if your `pad_token_id` (50256) is identical to the `bos_token_id` (50256), `eos_token_id` (50256), or the `sep_token_id` (None), and your input is not padded.\n"
     ]
    },
    {
     "name": "stdout",
     "output_type": "stream",
     "text": [
      "Generated caption: a large white animal laying on top of a beach \n"
     ]
    }
   ],
   "source": [
    "# Testen der Funktion mit dem hochgeladenen Bild\n",
    "image_path = 'Picture.png'\n",
    "caption = generate_caption(image_path)\n",
    "print(f'Generated caption: {caption}')"
   ]
  },
  {
   "cell_type": "code",
   "execution_count": 22,
   "metadata": {},
   "outputs": [
    {
     "name": "stdout",
     "output_type": "stream",
     "text": [
      "Generated caption: a baby seal lying on the beach\n"
     ]
    }
   ],
   "source": [
    "caption = generate_blip_caption(image_path)\n",
    "print(f'Generated caption: {caption}')"
   ]
  },
  {
   "cell_type": "code",
   "execution_count": 25,
   "metadata": {},
   "outputs": [
    {
     "name": "stdout",
     "output_type": "stream",
     "text": [
      "\n",
      "0: 416x640 1 bear, 70.1ms\n",
      "Speed: 7.5ms preprocess, 70.1ms inference, 6.7ms postprocess per image at shape (1, 3, 416, 640)\n",
      "Detected objects: ['bear']\n",
      "Simple caption: The image contains a bear.\n"
     ]
    }
   ],
   "source": [
    "# Teste die Funktion mit einem Beispielbild\n",
    "detected_objects = detect_objects(image_path)\n",
    "simple_caption = generate_simple_caption(detected_objects)\n",
    "print(f'Detected objects: {detected_objects}')\n",
    "print(f'Simple caption: {simple_caption}')\n"
   ]
  }
 ],
 "metadata": {
  "kernelspec": {
   "display_name": "neue_konzepte",
   "language": "python",
   "name": "python3"
  },
  "language_info": {
   "codemirror_mode": {
    "name": "ipython",
    "version": 3
   },
   "file_extension": ".py",
   "mimetype": "text/x-python",
   "name": "python",
   "nbconvert_exporter": "python",
   "pygments_lexer": "ipython3",
   "version": "3.12.3"
  }
 },
 "nbformat": 4,
 "nbformat_minor": 2
}
