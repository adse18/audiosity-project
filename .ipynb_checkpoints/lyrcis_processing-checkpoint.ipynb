{
 "cells": [
  {
   "cell_type": "code",
   "execution_count": 1,
   "id": "40e1de71",
   "metadata": {},
   "outputs": [],
   "source": [
    "# idea: chunk songs by lines, create embeddings for chunks, cosine similarity, take top X%"
   ]
  },
  {
   "cell_type": "code",
   "execution_count": 14,
   "id": "6976e139",
   "metadata": {},
   "outputs": [],
   "source": [
    "import sqlite3\n",
    "import pandas as pd\n",
    "import numpy as np\n",
    "import heapq\n",
    "import re\n",
    "from sentence_transformers import SentenceTransformer"
   ]
  },
  {
   "cell_type": "code",
   "execution_count": 3,
   "id": "7d861261",
   "metadata": {},
   "outputs": [],
   "source": [
    "model = SentenceTransformer(\"all-MiniLM-L6-v2\")"
   ]
  },
  {
   "cell_type": "markdown",
   "id": "40cd389c",
   "metadata": {},
   "source": [
    "# connecting to db:"
   ]
  },
  {
   "cell_type": "code",
   "execution_count": 4,
   "id": "c681e1c8",
   "metadata": {},
   "outputs": [
    {
     "data": {
      "text/plain": [
       "<sqlite3.Cursor at 0x22cbd54db40>"
      ]
     },
     "execution_count": 4,
     "metadata": {},
     "output_type": "execute_result"
    }
   ],
   "source": [
    "conn = sqlite3.connect(r\"songs.db\")\n",
    "cursor = conn.cursor()\n",
    "\n",
    "query = \"SELECT * FROM songs\"\n",
    "cursor.execute(query)\n",
    "\n"
   ]
  },
  {
   "cell_type": "code",
   "execution_count": 5,
   "id": "8edb17d2",
   "metadata": {},
   "outputs": [],
   "source": [
    "query = \"SELECT * FROM songs\"\n",
    "df = pd.read_sql_query(query, conn)"
   ]
  },
  {
   "cell_type": "markdown",
   "id": "d573752f",
   "metadata": {},
   "source": [
    "# preprocessing lyrics:"
   ]
  },
  {
   "cell_type": "code",
   "execution_count": 6,
   "id": "306ebff5",
   "metadata": {},
   "outputs": [],
   "source": [
    "def chunking(lyrics):\n",
    "    # remove start of song artifacts\n",
    "    stripped = re.sub(r'.*?Contributors.*?\\[.*?\\]', '', lyrics)\n",
    "    # remove song structure comments\n",
    "    stripped = re.sub(r'\\[.*?\\]', '', stripped)\n",
    "    # split song texts into lines by splitting at newline characters\n",
    "    stripped = stripped.splitlines()\n",
    "    # removing empty entries\n",
    "    stripped = [line for line in stripped if line.strip()]\n",
    "    # remove end of song artifacts\n",
    "    stripped[-1] = re.sub(r'\\d+Embed$', \"\", stripped[-1])\n",
    "    return stripped\n"
   ]
  },
  {
   "cell_type": "code",
   "execution_count": 7,
   "id": "a28c1eb0",
   "metadata": {
    "scrolled": true
   },
   "outputs": [
    {
     "data": {
      "text/plain": [
       "['What?',\n",
       " 'Well fuck you...bitch',\n",
       " 'Now can you bounce wit me, wit me, wit me wit me',\n",
       " 'Can you bounce wit me, bounce wit me, wit me wit me',\n",
       " 'Can you bounce wit me, bounce wit me, ge-gi-gi-gi-gi-gi',\n",
       " 'Can you bounce wit me, bounce wit me, ye-ye-yeah',\n",
       " 'Uh-huh uh-huh bounce wit me, bounce wit me',\n",
       " 'Can ya can ya can ya bounce wit me, bounce wit me',\n",
       " 'Ya-yah-yah, ya-ya-yah-yeah bounce wit me, bounce wit me',\n",
       " 'Ge-gi, ge-gi-gi-gi-geyeah bounce wit me, bounce wit me',\n",
       " 'Get it!',\n",
       " \"Can I hit in the mornin' without givin' you half of my dough\",\n",
       " 'And even worse, if I was broke would you want me',\n",
       " \"If I couldn't get you finer things like all of them diamond rings\",\n",
       " 'Bitches kill for would you still roll',\n",
       " \"If we couldn't see the sun risin' off the shore of Thailand\",\n",
       " \"Would you ride then, if I wasn't driving\",\n",
       " \"If I wasn't a eight-figure nigga by the name of Jigga\",\n",
       " 'Would you come around me or would you clown me',\n",
       " \"If I couldn't flow futuristic, would ya\",\n",
       " 'Put your two lips on my wood and kiss it, could ya',\n",
       " 'See yourself with a nigga working hard at a nine to five',\n",
       " 'Ten to six, two jobs to survive, or',\n",
       " 'Do you need a baller, so you can shop and tear the mall up',\n",
       " 'Brag, tell your friends what I bought ya',\n",
       " \"If you couldn't see yourself with a nigga when his dough is low\",\n",
       " 'Baby girl, if this is so, yo',\n",
       " 'You might also like',\n",
       " 'Can I get a fuck you',\n",
       " 'To these bitches from all of my niggas',\n",
       " \"Who don't love hoes, they get no dough\",\n",
       " 'Can I get a woop woop',\n",
       " 'To these niggas from all of my bitches',\n",
       " \"Who don't got love for niggas without dubs\",\n",
       " 'Can I get a fuck you',\n",
       " 'To these bitches from all of my niggas',\n",
       " \"Who don't love hoes, they get no dough\",\n",
       " 'Can I get a woop woop',\n",
       " 'To these niggas from all of my bitches',\n",
       " \"Who don't got love for niggas without dubs\",\n",
       " 'Now can you bounce wit me, uhh',\n",
       " 'Bounce wit me, bounce wit me',\n",
       " 'Can ya can ya can ya bounce wit me, bounce wit me',\n",
       " 'Uh uh.. Major Coins, Amil-lion',\n",
       " 'Bounce wit me, bounce wit me',\n",
       " 'Uhh, yo bounce wit me',\n",
       " 'Can ya can ya can ya bounce wit me, bounce wit me',\n",
       " 'Yeah, uh-uh uh uh',\n",
       " \"You ain't gotta be rich but fuck that\",\n",
       " 'How we gonna get around on your bus pass',\n",
       " 'Before I put this pussy on your mustache',\n",
       " 'Can you afford me? My niggas breadwinners, never corny',\n",
       " 'Ambition makes me so horny',\n",
       " \"Not the fussin' and the frontin'\",\n",
       " 'If you got nothing, baby boy, you better',\n",
       " 'Get up, get out and get some, shit',\n",
       " 'I like a - lot of Prada, Alizé and vodka',\n",
       " 'Late nights, candlelight, then I tear the cock up',\n",
       " \"Get it up I put it down e'rytime it pop up, huh\",\n",
       " \"I got to snap 'em, let it loose, then I knock ya\",\n",
       " 'Feel the juice, then I got ya - when you produce a rock',\n",
       " 'I let you meet momma and introduce you to poppa',\n",
       " 'My - coochie remains in a Gucci name',\n",
       " \"Never test my patience, nigga, I'm high maintenance\",\n",
       " \"High class, if you ain't rollin', bypass\",\n",
       " \"If you ain't holdin' I dash yo\",\n",
       " 'Can I get a fuck you',\n",
       " 'To these bitches from all of my niggas',\n",
       " \"Who don't love hoes, they get no dough\",\n",
       " 'Can I get a woop woop',\n",
       " 'To these niggas from all of my bitches',\n",
       " \"Who don't got love for niggas without dubs\",\n",
       " 'Can I get a fuck you',\n",
       " 'To these bitches from all of my niggas',\n",
       " \"Who don't love hoes, they get no dough\",\n",
       " 'Can I get a woop woop',\n",
       " 'To these niggas from all of my bitches',\n",
       " \"Who don't got love for niggas without dubs\",\n",
       " 'Now can you bounce for me, bounce for me',\n",
       " 'Uhh',\n",
       " 'Can ya can ya can ya bounce wit me, bounce wit me',\n",
       " 'Uhh!',\n",
       " 'Gi-gi-gi-geyeah-geyeah',\n",
       " 'Can ya bounce wit me, bounce wit me',\n",
       " 'UHH!',\n",
       " 'Gi-gi-gi-gi can ya bounce wit me, bounce wit me',\n",
       " 'Uhh! Yeah',\n",
       " \"It ain't even a question\",\n",
       " \"How my dough flows, I'm good to these bad hoes\",\n",
       " \"Like my puss wet and they don't dry like damp clothes\",\n",
       " \"What y'all niggas don't know: it's e-asy to pimp a hoe\",\n",
       " \"Bitches better have my money fo' sho'\",\n",
       " \"Before they go runnin' they mouth, promotin' how\",\n",
       " \"I be dickin' they, back out, go 'head, let it out\",\n",
       " 'I fucks with my Gat out, bounce and leave a hundred',\n",
       " \"Makin' 'em feel slutted even if they don't want it\",\n",
       " \"It's been so long, since I met a chick ain't about chips but then I'm\",\n",
       " 'Dead wrong, when I tell \\'em, \"be gone\"',\n",
       " \"So hold on to the feelin' of flossin' and plat-num\",\n",
       " \"'Cause from now on, you can witness Ja the i-con\",\n",
       " \"With hoodies and Timbs on, 'cause I thugs my bitches\",\n",
       " 'VV studs my bitches, then we rob bitch niggas',\n",
       " \"I'm talkin' 'bout straight figures, if you here, get with us\",\n",
       " 'If not, Boo, you know what, I still fucked you',\n",
       " 'Can I get a fuck you',\n",
       " 'To these bitches from all of my niggas',\n",
       " \"Who don't love hoes, they get no dough\",\n",
       " 'Can I get a woop woop',\n",
       " 'To these niggas from all of my bitches',\n",
       " \"Who don't got love for niggas without dubs\",\n",
       " 'Can I get a fuck you',\n",
       " 'To these bitches from all of my niggas',\n",
       " \"Who don't love hoes, they get no dough\",\n",
       " 'Can I get a woop woop',\n",
       " 'To these niggas from all of my bitches',\n",
       " \"Who don't got love for niggas without dubs\",\n",
       " 'Now can you bounce wit me, bounce wit me',\n",
       " 'Ge-gi, ge-gi-gi-gi bounce wit me, bounce wit me',\n",
       " 'Wit me wit me wit me bounce wit me, bounce wit me',\n",
       " 'Bounce, bitch, bounce.. wit me wit me wit me wit me',\n",
       " 'Can ya bounce wit me wit me',\n",
       " 'Ge-gi, uh-huh uh-huh uh-huh uh-huh',\n",
       " 'Uh-huh uh-huh uh-huh uh-huh uh-huh uh-huh uh',\n",
       " 'Can ya bounce wit me bounce wit me',\n",
       " 'Geyeah']"
      ]
     },
     "execution_count": 7,
     "metadata": {},
     "output_type": "execute_result"
    }
   ],
   "source": [
    "lyrics = df[\"lyrics\"][6]\n",
    "chunks = chunking(lyrics)\n",
    "chunks"
   ]
  },
  {
   "cell_type": "markdown",
   "id": "4eb6c0a3",
   "metadata": {},
   "source": [
    "# embeddings lyrics"
   ]
  },
  {
   "cell_type": "code",
   "execution_count": 8,
   "id": "4f3c60cf",
   "metadata": {},
   "outputs": [],
   "source": [
    "embeddings = model.encode(chunks, normalize_embeddings=True)"
   ]
  },
  {
   "cell_type": "code",
   "execution_count": 9,
   "id": "ffc67cbf",
   "metadata": {},
   "outputs": [],
   "source": [
    "def cosine_similarity(x, y):\n",
    "    \n",
    "    # Ensure length of x and y are the same\n",
    "    if len(x) != len(y) :\n",
    "        return None\n",
    "    \n",
    "    # Compute the dot product between x and y\n",
    "    dot_product = np.dot(x, y)\n",
    "    \n",
    "    # Compute the L2 norms (magnitudes) of x and y\n",
    "    magnitude_x = np.sqrt(np.sum(x**2)) \n",
    "    magnitude_y = np.sqrt(np.sum(y**2))\n",
    "    \n",
    "    # Compute the cosine similarity\n",
    "    cosine_similarity = dot_product / (magnitude_x * magnitude_y)\n",
    "    \n",
    "    return cosine_similarity\n"
   ]
  },
  {
   "cell_type": "code",
   "execution_count": 10,
   "id": "89e2364e",
   "metadata": {
    "scrolled": true
   },
   "outputs": [],
   "source": [
    "input_phrase = \"ambitious breadwinner\"\n",
    "input_vector = model.encode(input_phrase)\n",
    "similarities = []\n",
    "for i in embeddings:\n",
    "    similarities.append(cosine_similarity(input_vector, i))\n",
    "    "
   ]
  },
  {
   "cell_type": "markdown",
   "id": "9dc75d06",
   "metadata": {},
   "source": [
    "# find most similar line:"
   ]
  },
  {
   "cell_type": "code",
   "execution_count": 11,
   "id": "a54a0fee",
   "metadata": {},
   "outputs": [
    {
     "name": "stdout",
     "output_type": "stream",
     "text": [
      "Most similar line: Ambition makes me so horny\n",
      "Cosine similarity: 0.42427036\n"
     ]
    }
   ],
   "source": [
    "max_similarity_index = similarities.index(max(similarities))  # Find index of max similarity\n",
    "most_similar_line = chunks[max_similarity_index]  # Get the corresponding line\n",
    "\n",
    "print(\"Most similar line:\", most_similar_line)\n",
    "print(\"Cosine similarity:\", max(similarities))"
   ]
  },
  {
   "cell_type": "markdown",
   "id": "cead7cc0",
   "metadata": {},
   "source": [
    "# top n results:"
   ]
  },
  {
   "cell_type": "code",
   "execution_count": 15,
   "id": "19f81f2a",
   "metadata": {},
   "outputs": [
    {
     "name": "stdout",
     "output_type": "stream",
     "text": [
      "Similar line: Ambition makes me so horny, Cosine similarity: 0.424270361661911\n",
      "Similar line: Can you afford me? My niggas breadwinners, never corny, Cosine similarity: 0.3952316343784332\n",
      "Similar line: Who don't love hoes, they get no dough, Cosine similarity: 0.32037052512168884\n"
     ]
    }
   ],
   "source": [
    "top_n = 3  \n",
    "top_indices = heapq.nlargest(top_n, range(len(similarities)), key=similarities.__getitem__)\n",
    "top_lines = [chunks[i] for i in top_indices]\n",
    "for line, sim in zip(top_lines, [similarities[i] for i in top_indices]):\n",
    "    print(f\"Similar line: {line}, Cosine similarity: {sim}\")"
   ]
  },
  {
   "cell_type": "code",
   "execution_count": 16,
   "id": "d831dee9",
   "metadata": {},
   "outputs": [
    {
     "data": {
      "text/plain": [
       "[52, 51, 30]"
      ]
     },
     "execution_count": 16,
     "metadata": {},
     "output_type": "execute_result"
    }
   ],
   "source": [
    "top_indices"
   ]
  },
  {
   "cell_type": "code",
   "execution_count": null,
   "id": "b8397f9f",
   "metadata": {},
   "outputs": [],
   "source": []
  }
 ],
 "metadata": {
  "kernelspec": {
   "display_name": "Python 3 (ipykernel)",
   "language": "python",
   "name": "python3"
  },
  "language_info": {
   "codemirror_mode": {
    "name": "ipython",
    "version": 3
   },
   "file_extension": ".py",
   "mimetype": "text/x-python",
   "name": "python",
   "nbconvert_exporter": "python",
   "pygments_lexer": "ipython3",
   "version": "3.10.9"
  }
 },
 "nbformat": 4,
 "nbformat_minor": 5
}
