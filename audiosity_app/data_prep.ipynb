{
 "cells": [
  {
   "cell_type": "code",
   "execution_count": 37,
   "metadata": {},
   "outputs": [],
   "source": [
    "from langchain.vectorstores import FAISS\n",
    "from langchain.embeddings import SentenceTransformerEmbeddings\n",
    "from langchain.chains import RetrievalQAWithSourcesChain\n",
    "from langchain.text_splitter import RecursiveCharacterTextSplitter\n",
    "\n",
    "import pandas as pd"
   ]
  },
  {
   "cell_type": "code",
   "execution_count": 21,
   "metadata": {},
   "outputs": [
    {
     "data": {
      "text/html": [
       "<div>\n",
       "<style scoped>\n",
       "    .dataframe tbody tr th:only-of-type {\n",
       "        vertical-align: middle;\n",
       "    }\n",
       "\n",
       "    .dataframe tbody tr th {\n",
       "        vertical-align: top;\n",
       "    }\n",
       "\n",
       "    .dataframe thead th {\n",
       "        text-align: right;\n",
       "    }\n",
       "</style>\n",
       "<table border=\"1\" class=\"dataframe\">\n",
       "  <thead>\n",
       "    <tr style=\"text-align: right;\">\n",
       "      <th></th>\n",
       "      <th>album</th>\n",
       "      <th>album_url</th>\n",
       "      <th>artist</th>\n",
       "      <th>featured_artists</th>\n",
       "      <th>lyrics</th>\n",
       "      <th>media</th>\n",
       "      <th>rank</th>\n",
       "      <th>release_date</th>\n",
       "      <th>song_title</th>\n",
       "      <th>song_url</th>\n",
       "      <th>writers</th>\n",
       "      <th>year_float</th>\n",
       "      <th>verbs</th>\n",
       "      <th>nouns</th>\n",
       "      <th>adverbs</th>\n",
       "      <th>corpus</th>\n",
       "      <th>word_counts</th>\n",
       "      <th>unique_word_counts</th>\n",
       "    </tr>\n",
       "  </thead>\n",
       "  <tbody>\n",
       "    <tr>\n",
       "      <th>0</th>\n",
       "      <td>Battle of New Orleans</td>\n",
       "      <td>https://genius.com/albums/Johnny-horton/Battle...</td>\n",
       "      <td>Johnny Horton</td>\n",
       "      <td>[]</td>\n",
       "      <td>In 1814 we took a little trip Along with Colo...</td>\n",
       "      <td>[{'native_uri': 'spotify:track:0dwpdcQkeZqpuoA...</td>\n",
       "      <td>1</td>\n",
       "      <td>1959-04-01</td>\n",
       "      <td>The Battle Of New Orleans</td>\n",
       "      <td>https://genius.com/Johnny-horton-the-battle-of...</td>\n",
       "      <td>[{'api_path': '/artists/561913', 'header_image...</td>\n",
       "      <td>1959.0</td>\n",
       "      <td>take take take catch fire keep be be fire begi...</td>\n",
       "      <td>trip bacon bean town gun comin while river of'...</td>\n",
       "      <td>along as ago once more so as ago once more the...</td>\n",
       "      <td>take little trip Colonel Jackson mighty Missis...</td>\n",
       "      <td>435</td>\n",
       "      <td>155</td>\n",
       "    </tr>\n",
       "    <tr>\n",
       "      <th>1</th>\n",
       "      <td>That’s All</td>\n",
       "      <td>https://genius.com/albums/Bobby-darin/That-s-all</td>\n",
       "      <td>Bobby Darin</td>\n",
       "      <td>[]</td>\n",
       "      <td>Oh the shark, babe Has such teeth, dear And he...</td>\n",
       "      <td>[{'native_uri': 'spotify:track:3E5ndyOfO6vFDEI...</td>\n",
       "      <td>2</td>\n",
       "      <td>NaN</td>\n",
       "      <td>Mack The Knife</td>\n",
       "      <td>https://genius.com/Bobby-darin-mack-the-knife-...</td>\n",
       "      <td>[{'api_path': '/artists/218851', 'header_image...</td>\n",
       "      <td>1959.0</td>\n",
       "      <td>have show have keep know bite billow spread be...</td>\n",
       "      <td>shark babe tooth jackknife babe sight shark to...</td>\n",
       "      <td>pearly just so never never now just just down ...</td>\n",
       "      <td>oh shark babe tooth dear show pearly white jac...</td>\n",
       "      <td>224</td>\n",
       "      <td>145</td>\n",
       "    </tr>\n",
       "  </tbody>\n",
       "</table>\n",
       "</div>"
      ],
      "text/plain": [
       "                   album                                          album_url  \\\n",
       "0  Battle of New Orleans  https://genius.com/albums/Johnny-horton/Battle...   \n",
       "1             That’s All   https://genius.com/albums/Bobby-darin/That-s-all   \n",
       "\n",
       "          artist featured_artists  \\\n",
       "0  Johnny Horton               []   \n",
       "1    Bobby Darin               []   \n",
       "\n",
       "                                              lyrics  \\\n",
       "0   In 1814 we took a little trip Along with Colo...   \n",
       "1  Oh the shark, babe Has such teeth, dear And he...   \n",
       "\n",
       "                                               media  rank release_date  \\\n",
       "0  [{'native_uri': 'spotify:track:0dwpdcQkeZqpuoA...     1   1959-04-01   \n",
       "1  [{'native_uri': 'spotify:track:3E5ndyOfO6vFDEI...     2          NaN   \n",
       "\n",
       "                  song_title  \\\n",
       "0  The Battle Of New Orleans   \n",
       "1             Mack The Knife   \n",
       "\n",
       "                                            song_url  \\\n",
       "0  https://genius.com/Johnny-horton-the-battle-of...   \n",
       "1  https://genius.com/Bobby-darin-mack-the-knife-...   \n",
       "\n",
       "                                             writers  year_float  \\\n",
       "0  [{'api_path': '/artists/561913', 'header_image...      1959.0   \n",
       "1  [{'api_path': '/artists/218851', 'header_image...      1959.0   \n",
       "\n",
       "                                               verbs  \\\n",
       "0  take take take catch fire keep be be fire begi...   \n",
       "1  have show have keep know bite billow spread be...   \n",
       "\n",
       "                                               nouns  \\\n",
       "0  trip bacon bean town gun comin while river of'...   \n",
       "1  shark babe tooth jackknife babe sight shark to...   \n",
       "\n",
       "                                             adverbs  \\\n",
       "0  along as ago once more so as ago once more the...   \n",
       "1  pearly just so never never now just just down ...   \n",
       "\n",
       "                                              corpus  word_counts  \\\n",
       "0  take little trip Colonel Jackson mighty Missis...          435   \n",
       "1  oh shark babe tooth dear show pearly white jac...          224   \n",
       "\n",
       "   unique_word_counts  \n",
       "0                 155  \n",
       "1                 145  "
      ]
     },
     "execution_count": 21,
     "metadata": {},
     "output_type": "execute_result"
    }
   ],
   "source": [
    "# load the lyrics dataset\n",
    "data_path = \"all_songs_data_processed.csv\"\n",
    "vid_data = pd.read_csv(data_path)\n",
    "vid_data.head(2)"
   ]
  },
  {
   "cell_type": "code",
   "execution_count": 22,
   "metadata": {},
   "outputs": [
    {
     "data": {
      "text/plain": [
       "(6292, 18)"
      ]
     },
     "execution_count": 22,
     "metadata": {},
     "output_type": "execute_result"
    }
   ],
   "source": [
    "vid_data.shape"
   ]
  },
  {
   "cell_type": "code",
   "execution_count": 30,
   "metadata": {},
   "outputs": [
    {
     "data": {
      "text/plain": [
       "2"
      ]
     },
     "execution_count": 30,
     "metadata": {},
     "output_type": "execute_result"
    }
   ],
   "source": [
    "len(vid_data[vid_data.lyrics.apply(lambda x: len(x) if isinstance(x,str) else 0) >= 8200])\n"
   ]
  },
  {
   "cell_type": "code",
   "execution_count": 33,
   "metadata": {},
   "outputs": [
    {
     "name": "stderr",
     "output_type": "stream",
     "text": [
      "c:\\Users\\Adrian\\Documents\\DHBW\\6.Semester\\advanced-ml\\audiosity\\Lib\\site-packages\\huggingface_hub\\file_download.py:157: UserWarning: `huggingface_hub` cache-system uses symlinks by default to efficiently store duplicated files but your machine does not support them in C:\\Users\\Adrian\\.cache\\huggingface\\hub\\models--sentence-transformers--all-MiniLM-L6-v2. Caching files will still work but in a degraded version that might require more space on your disk. This warning can be disabled by setting the `HF_HUB_DISABLE_SYMLINKS_WARNING` environment variable. For more details, see https://huggingface.co/docs/huggingface_hub/how-to-cache#limitations.\n",
      "To support symlinks on Windows, you either need to activate Developer Mode or to run Python as an administrator. In order to see activate developer mode, see this article: https://docs.microsoft.com/en-us/windows/apps/get-started/enable-your-device-for-development\n",
      "  warnings.warn(message)\n"
     ]
    }
   ],
   "source": [
    "embedding = SentenceTransformerEmbeddings(model_name=\"sentence-transformers/all-MiniLM-L6-v2\")"
   ]
  },
  {
   "cell_type": "code",
   "execution_count": 35,
   "metadata": {},
   "outputs": [],
   "source": [
    "vid_dict_array = vid_data.to_dict(orient='records')\n"
   ]
  },
  {
   "cell_type": "code",
   "execution_count": 55,
   "metadata": {},
   "outputs": [],
   "source": [
    "vid_dict_array = vid_dict_array[:100]"
   ]
  },
  {
   "cell_type": "code",
   "execution_count": 56,
   "metadata": {},
   "outputs": [
    {
     "data": {
      "text/plain": [
       "[Document(page_content=\"Over and over I tried to prove my love to you Over and over What more can I do  Over and over My friend says I'm a fool But over and over I'll be a fool for you  Cause you got personality Walk (with personality) Talk (with personality) Smile (with personality) Charm (with personality) Love (with\", metadata={'source': 'Personality', 'start_index': 0}),\n",
       " Document(page_content=\"personality) And plus you've got A great big heart  So over and over Oh, I'll be a fool for you Now over and over What more can I do  Cause you got personality Walk (with personality) Talk (with personality) Smile (with personality) Charm (with personality) Love (with personality) And plus you've\", metadata={'source': 'Personality', 'start_index': 297}),\n",
       " Document(page_content=\"got A great big heart  So over and over Whoa, I'll be a fool for you Now over and over What more can I do  Over and over I said that I love you Over and over, honey Now it's the truth  Over and over They still say I'm a fool But over and over I'll be a fool for you  Cause you got personality Walk\", metadata={'source': 'Personality', 'start_index': 595}),\n",
       " Document(page_content=\"(with personality) Talk (with personality) Smile (with personality) Charm (with personality) Love (with personality) And plus you've got A great big heart  So over and over Whoa, I'll be a fool for you Now over and over What more can I do\", metadata={'source': 'Personality', 'start_index': 893})]"
      ]
     },
     "execution_count": 56,
     "metadata": {},
     "output_type": "execute_result"
    }
   ],
   "source": [
    "descrip_split = RecursiveCharacterTextSplitter(chunk_size=300, \n",
    "                                               chunk_overlap=0,\n",
    "                                              length_function=len,\n",
    "                                              add_start_index=True)\n",
    "\n",
    "descrip_split.create_documents([vid_dict_array[2]['lyrics']],metadatas=[{'source':vid_dict_array[2]['song_title']}])\n"
   ]
  },
  {
   "cell_type": "code",
   "execution_count": 68,
   "metadata": {},
   "outputs": [],
   "source": [
    "documents = []\n",
    "\n",
    "for vid in vid_dict_array:\n",
    "    title = vid['song_title']\n",
    "    description = vid['lyrics']\n",
    "    \n",
    "    # Ensure description is a string\n",
    "    if isinstance(description, float):\n",
    "        description = str(description)  # Convert float to string if necessary\n",
    "    \n",
    "    # Check if description is a string before processing\n",
    "    if isinstance(description, str):\n",
    "        temp = descrip_split.create_documents([description], metadatas=[{'source': title}])\n",
    "        documents.extend(temp)\n",
    "    else:\n",
    "        print(f\"Skipping invalid description: {description}\")"
   ]
  },
  {
   "cell_type": "code",
   "execution_count": 69,
   "metadata": {},
   "outputs": [],
   "source": [
    "vector_db = FAISS.from_documents(documents=documents,embedding=embedding)\n",
    "vector_db.save_local('vector_db_lyrics')"
   ]
  },
  {
   "cell_type": "code",
   "execution_count": 70,
   "metadata": {},
   "outputs": [],
   "source": [
    "# Assuming FAISS supports a similar parameter for deserialization safety\n",
    "load_db = FAISS.load_local(folder_path=\"vector_db_lyrics\", embeddings=embedding, allow_dangerous_deserialization=True)\n",
    "vec_retriever = vector_db.as_retriever()\n"
   ]
  },
  {
   "cell_type": "code",
   "execution_count": 73,
   "metadata": {},
   "outputs": [
    {
     "data": {
      "text/plain": [
       "[Document(page_content=\"fight The Battle of New Orleans tonight  They're kissin' in drive-ins, you too, Baltimore Rockin' at dances, land and sea and shore Then it's off to Dee-troit, they all know the score So, a-baby, oh baby, what are we waitin' for?  Oh, 'cause summertime is kissin' time USA  FADE So press your tasty\", metadata={'source': \"Kissin' Time\", 'start_index': 896}),\n",
       " Document(page_content=\"They're smoochin' all over, even in St. Loo So uh-baby get ready, I'm a-kissin' you  Oh, baby 'cause summertime is kissin' time USA So treat me right, a-don't-a make-a me fight The Battle of New Orleans tonight  They're kissin' on beaches, sea to shining sea Smoochin' on benches, near the Christmas\", metadata={'source': \"Kissin' Time\", 'start_index': 301}),\n",
       " Document(page_content=\"fired once more and they begin to runnin' On down the Mississippi to the Gulf of Mexico   We looked down a river (Hut-two) And we see'd the British come (Three-four) And there must have been a hundred of'em (Hut-two) Beatin' on the drums (Three-four) They stepped so high (Hut-two) And they made\", metadata={'source': 'The Battle Of New Orleans', 'start_index': 298})]"
      ]
     },
     "execution_count": 73,
     "metadata": {},
     "output_type": "execute_result"
    }
   ],
   "source": [
    "vector_db.similarity_search(\"I walk in mighty Mississippi\", k=3)\n"
   ]
  }
 ],
 "metadata": {
  "kernelspec": {
   "display_name": "audiosity",
   "language": "python",
   "name": "python3"
  },
  "language_info": {
   "codemirror_mode": {
    "name": "ipython",
    "version": 3
   },
   "file_extension": ".py",
   "mimetype": "text/x-python",
   "name": "python",
   "nbconvert_exporter": "python",
   "pygments_lexer": "ipython3",
   "version": "3.12.1"
  }
 },
 "nbformat": 4,
 "nbformat_minor": 2
}
