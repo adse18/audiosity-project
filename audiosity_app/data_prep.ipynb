{
 "cells": [
  {
   "cell_type": "code",
   "execution_count": 21,
   "metadata": {},
   "outputs": [],
   "source": [
    "from langchain.vectorstores import FAISS\n",
    "from langchain.embeddings import SentenceTransformerEmbeddings\n",
    "from langchain.chains import RetrievalQAWithSourcesChain\n",
    "from langchain.text_splitter import RecursiveCharacterTextSplitter\n",
    "\n",
    "import pandas as pd"
   ]
  },
  {
   "cell_type": "code",
   "execution_count": 22,
   "metadata": {},
   "outputs": [
    {
     "data": {
      "text/html": [
       "<div>\n",
       "<style scoped>\n",
       "    .dataframe tbody tr th:only-of-type {\n",
       "        vertical-align: middle;\n",
       "    }\n",
       "\n",
       "    .dataframe tbody tr th {\n",
       "        vertical-align: top;\n",
       "    }\n",
       "\n",
       "    .dataframe thead th {\n",
       "        text-align: right;\n",
       "    }\n",
       "</style>\n",
       "<table border=\"1\" class=\"dataframe\">\n",
       "  <thead>\n",
       "    <tr style=\"text-align: right;\">\n",
       "      <th></th>\n",
       "      <th>song_id</th>\n",
       "      <th>album</th>\n",
       "      <th>artist</th>\n",
       "      <th>title</th>\n",
       "      <th>release_date</th>\n",
       "      <th>lyrics</th>\n",
       "    </tr>\n",
       "  </thead>\n",
       "  <tbody>\n",
       "    <tr>\n",
       "      <th>0</th>\n",
       "      <td>1</td>\n",
       "      <td>Battle of New Orleans</td>\n",
       "      <td>Johnny Horton</td>\n",
       "      <td>The Battle Of New Orleans</td>\n",
       "      <td>1959-04-01</td>\n",
       "      <td>In 1814 we took a little trip Along with Colo...</td>\n",
       "    </tr>\n",
       "    <tr>\n",
       "      <th>1</th>\n",
       "      <td>2</td>\n",
       "      <td>The Bobby Darin Story</td>\n",
       "      <td>Bobby Darin</td>\n",
       "      <td>Dream Lover</td>\n",
       "      <td>1959-03-05</td>\n",
       "      <td>Every night I hope and pray A dream lover wil...</td>\n",
       "    </tr>\n",
       "  </tbody>\n",
       "</table>\n",
       "</div>"
      ],
      "text/plain": [
       "   song_id                  album         artist                      title  \\\n",
       "0        1  Battle of New Orleans  Johnny Horton  The Battle Of New Orleans   \n",
       "1        2  The Bobby Darin Story    Bobby Darin                Dream Lover   \n",
       "\n",
       "  release_date                                             lyrics  \n",
       "0   1959-04-01   In 1814 we took a little trip Along with Colo...  \n",
       "1   1959-03-05   Every night I hope and pray A dream lover wil...  "
      ]
     },
     "execution_count": 22,
     "metadata": {},
     "output_type": "execute_result"
    }
   ],
   "source": [
    "# load the lyrics dataset\n",
    "data_path = \"all_songs_output.csv\"\n",
    "vid_data = pd.read_csv(data_path)\n",
    "vid_data.head(2)"
   ]
  },
  {
   "cell_type": "code",
   "execution_count": 23,
   "metadata": {},
   "outputs": [
    {
     "name": "stdout",
     "output_type": "stream",
     "text": [
      "(35206, 6)\n"
     ]
    }
   ],
   "source": [
    "print(vid_data.shape)"
   ]
  },
  {
   "cell_type": "markdown",
   "metadata": {},
   "source": [
    "Drop too long lyrics"
   ]
  },
  {
   "cell_type": "code",
   "execution_count": 24,
   "metadata": {},
   "outputs": [
    {
     "name": "stdout",
     "output_type": "stream",
     "text": [
      "You successfully deleted all songs/rows with lyrics that exceeded 8000 strings.\n"
     ]
    }
   ],
   "source": [
    "max_len_lyrics = 8000\n",
    "mask = vid_data['lyrics'].apply(lambda x: len(x) < max_len_lyrics if isinstance(x, str) else False)\n",
    "vid_data = vid_data[mask]\n",
    "\n",
    "if len(vid_data[vid_data['lyrics'].apply(lambda x: len(x) if isinstance(x,str) else 0) >= 8000]) == 0:\n",
    "    print(f\"You successfully deleted all songs/rows with lyrics that exceeded {max_len_lyrics} strings.\")"
   ]
  },
  {
   "cell_type": "code",
   "execution_count": 25,
   "metadata": {},
   "outputs": [],
   "source": [
    "embedding = SentenceTransformerEmbeddings(model_name=\"sentence-transformers/all-MiniLM-L6-v2\")"
   ]
  },
  {
   "cell_type": "code",
   "execution_count": 26,
   "metadata": {},
   "outputs": [],
   "source": [
    "vid_dict_array = vid_data.to_dict(orient='records')"
   ]
  },
  {
   "cell_type": "code",
   "execution_count": 27,
   "metadata": {},
   "outputs": [
    {
     "data": {
      "text/plain": [
       "[Document(page_content=\"In 1814 we took a little trip Along with Colonel Jackson down the mighty Mississip We took a little bacon and we took a little beans And we caught the bloody British in a town near New Orleans   We fired our guns and the British kept a-comin' There wasn't nigh as many as there was a while ago We fired once more and they begin to runnin' On down the Mississippi to the Gulf of Mexico   We looked down a river (Hut-two) And we see'd the British come (Three-four) And there must have been a hundred of'em (Hut-two) Beatin' on the drums (Three-four) They stepped so high (Hut-two) And they made their bugles ring (Three-four) We stood beside our cotton bales (Hut-two) And didn't say a thing (Two-three-four)   We fired our guns and the British kept a-comin' There wasn't nigh as many as there was a while ago We fired once more and they begin to runnin' On down the Mississippi to the Gulf of Mexico   Old Hickory said we could take 'em by surprise (One-hut, two-three-four) If we didn't fire our muskets (One-hut, two-three-four) 'Till we looked 'em in the eye (One-hut, two-three-four) We held our fire (Hut, two-three-four) 'Till we see their faces well Then we opened up our squirrel guns And really gave 'em - well we   Fired our guns and the British kept a-comin' There wasn't nigh as many as there was a while ago We fired once more and they begin to runnin' On down the Mississippi to the Gulf of Mexico   Yeah, they ran through the briars (One-hup-two) And they ran through the brambles (Hup-two-three-four) And they ran through the bushes (Hup-two) Where the rabbit couldn't go (Hup-two-three-four) They ran so fast (Hup-two) That the hounds couldn't catch 'em (One-two-three-four) On down the Mississippi to the Gulf of Mexico (One-two, hup-two-three-four)   We fired our cannon 'til the barrel melted down So we grabbed an alligator and we fired another round We filled his head with cannon balls, and powdered his behind And when we touched the powder off the gator lost his mind   We fired our guns and the British kept a-comin' There wasn't nigh as many as there was a while ago We fired once more and they begin to runnin' On down the Mississippi to the Gulf of Mexico   Yeah, they ran through the briars (Hup-one-two) And they ran through the brambles (One-two-three-four) And they ran through the bushes (Hup-two) Where the rabbit couldn't go (Hup-two-three-four) They ran so fast (Hup-two) That the hounds couldn't catch 'em (One-two-three-four) On down the Mississippi to the Gulf of Mexico\", metadata={'source': 'The Battle Of New Orleans', 'start_index': 1})]"
      ]
     },
     "execution_count": 27,
     "metadata": {},
     "output_type": "execute_result"
    }
   ],
   "source": [
    "descrip_split = RecursiveCharacterTextSplitter(chunk_size=10000, \n",
    "                                               chunk_overlap=20,\n",
    "                                              length_function=len,\n",
    "                                              add_start_index=True)\n",
    "\n",
    "descrip_split.create_documents([vid_dict_array[0]['lyrics']],metadatas=[{'source':vid_dict_array[0]['title']}])\n"
   ]
  },
  {
   "cell_type": "code",
   "execution_count": 28,
   "metadata": {},
   "outputs": [],
   "source": [
    "documents = []\n",
    "\n",
    "for vid in vid_dict_array:\n",
    "    title = vid['title']\n",
    "    artist = vid['artist']\n",
    "    description = vid['lyrics']\n",
    "    \n",
    "    # Ensure description is a string\n",
    "    if isinstance(description, float):\n",
    "        description = str(description)  # Convert float to string if necessary\n",
    "    \n",
    "    # Check if description is a string before processing\n",
    "    if isinstance(description, str):\n",
    "        temp = descrip_split.create_documents([description], metadatas=[{'source': (title, artist)}])\n",
    "        documents.extend(temp)\n",
    "    else:\n",
    "        print(f\"Skipping invalid description: {description}\")"
   ]
  },
  {
   "cell_type": "code",
   "execution_count": 29,
   "metadata": {},
   "outputs": [],
   "source": [
    "vector_db = FAISS.from_documents(documents=documents,embedding=embedding)\n",
    "vector_db.save_local('vector_db_lyrics_all_songs')\n",
    "#takes 12 min to load with all 6000 songs"
   ]
  },
  {
   "cell_type": "code",
   "execution_count": 35,
   "metadata": {},
   "outputs": [],
   "source": [
    "# Assuming FAISS supports a similar parameter for deserialization safety\n",
    "load_db = FAISS.load_local(folder_path=\"vector_db_lyrics\", embeddings=embedding, allow_dangerous_deserialization=True)\n",
    "vec_retriever = vector_db.as_retriever()"
   ]
  },
  {
   "cell_type": "code",
   "execution_count": 73,
   "metadata": {},
   "outputs": [
    {
     "data": {
      "text/plain": [
       "[Document(page_content=\"fight The Battle of New Orleans tonight  They're kissin' in drive-ins, you too, Baltimore Rockin' at dances, land and sea and shore Then it's off to Dee-troit, they all know the score So, a-baby, oh baby, what are we waitin' for?  Oh, 'cause summertime is kissin' time USA  FADE So press your tasty\", metadata={'source': \"Kissin' Time\", 'start_index': 896}),\n",
       " Document(page_content=\"They're smoochin' all over, even in St. Loo So uh-baby get ready, I'm a-kissin' you  Oh, baby 'cause summertime is kissin' time USA So treat me right, a-don't-a make-a me fight The Battle of New Orleans tonight  They're kissin' on beaches, sea to shining sea Smoochin' on benches, near the Christmas\", metadata={'source': \"Kissin' Time\", 'start_index': 301}),\n",
       " Document(page_content=\"fired once more and they begin to runnin' On down the Mississippi to the Gulf of Mexico   We looked down a river (Hut-two) And we see'd the British come (Three-four) And there must have been a hundred of'em (Hut-two) Beatin' on the drums (Three-four) They stepped so high (Hut-two) And they made\", metadata={'source': 'The Battle Of New Orleans', 'start_index': 298})]"
      ]
     },
     "execution_count": 73,
     "metadata": {},
     "output_type": "execute_result"
    }
   ],
   "source": [
    "vector_db.similarity_search(\"I walk in mighty Mississippi\", k=3)\n"
   ]
  }
 ],
 "metadata": {
  "kernelspec": {
   "display_name": "audiosity",
   "language": "python",
   "name": "python3"
  },
  "language_info": {
   "codemirror_mode": {
    "name": "ipython",
    "version": 3
   },
   "file_extension": ".py",
   "mimetype": "text/x-python",
   "name": "python",
   "nbconvert_exporter": "python",
   "pygments_lexer": "ipython3",
   "version": "3.12.1"
  }
 },
 "nbformat": 4,
 "nbformat_minor": 2
}
